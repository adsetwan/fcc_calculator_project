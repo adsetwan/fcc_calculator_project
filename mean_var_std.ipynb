{
 "cells": [
  {
   "cell_type": "code",
   "execution_count": 1,
   "metadata": {},
   "outputs": [],
   "source": [
    "\n",
    "import numpy as np\n",
    "\n",
    "def calculate(fil):\n",
    "    if len(fil) != 9:\n",
    "        raise ValueError(\"List must contain nine numbers.\")\n",
    "    matrix = np.array(fil).reshape(3, 3)\n",
    "    result = {\n",
    "        'mean': [\n",
    "            matrix.mean(axis=0).tolist(),\n",
    "            matrix.mean(axis=1).tolist(),\n",
    "            matrix.mean().tolist()\n",
    "        ],\n",
    "        'variance': [\n",
    "            matrix.var(axis=0).tolist(),\n",
    "            matrix.var(axis=1).tolist(),\n",
    "            matrix.var().tolist()\n",
    "        ],\n",
    "        'standard deviation': [\n",
    "            matrix.std(axis=0).tolist(),\n",
    "            matrix.std(axis=1).tolist(),\n",
    "            matrix.std().tolist()\n",
    "        ],\n",
    "        'max': [\n",
    "            matrix.max(axis=0).tolist(),\n",
    "            matrix.max(axis=1).tolist(),\n",
    "            matrix.max().tolist()\n",
    "        ],\n",
    "        'min': [\n",
    "            matrix.min(axis=0).tolist(),\n",
    "            matrix.min(axis=1).tolist(),\n",
    "            matrix.min().tolist()\n",
    "        ],\n",
    "        'sum': [\n",
    "            matrix.sum(axis=0).tolist(),\n",
    "            matrix.sum(axis=1).tolist(),\n",
    "            matrix.sum().tolist()\n",
    "        ]\n",
    "    }\n",
    "\n",
    "    return result\n",
    "\n"
   ]
  },
  {
   "cell_type": "code",
   "execution_count": 2,
   "metadata": {},
   "outputs": [
    {
     "data": {
      "text/plain": [
       "{'mean': [[3.0, 4.0, 5.0], [1.0, 4.0, 7.0], 4.0],\n",
       " 'variance': [[6.0, 6.0, 6.0],\n",
       "  [0.6666666666666666, 0.6666666666666666, 0.6666666666666666],\n",
       "  6.666666666666667],\n",
       " 'standard deviation': [[2.449489742783178,\n",
       "   2.449489742783178,\n",
       "   2.449489742783178],\n",
       "  [0.816496580927726, 0.816496580927726, 0.816496580927726],\n",
       "  2.581988897471611],\n",
       " 'max': [[6, 7, 8], [2, 5, 8], 8],\n",
       " 'min': [[0, 1, 2], [0, 3, 6], 0],\n",
       " 'sum': [[9, 12, 15], [3, 12, 21], 36]}"
      ]
     },
     "execution_count": 2,
     "metadata": {},
     "output_type": "execute_result"
    }
   ],
   "source": [
    "calculate([0,1,2,3,4,5,6,7,8])"
   ]
  },
  {
   "cell_type": "code",
   "execution_count": null,
   "metadata": {},
   "outputs": [],
   "source": []
  }
 ],
 "metadata": {
  "kernelspec": {
   "display_name": "Python 3",
   "language": "python",
   "name": "python3"
  },
  "language_info": {
   "codemirror_mode": {
    "name": "ipython",
    "version": 3
   },
   "file_extension": ".py",
   "mimetype": "text/x-python",
   "name": "python",
   "nbconvert_exporter": "python",
   "pygments_lexer": "ipython3",
   "version": "3.11.8"
  }
 },
 "nbformat": 4,
 "nbformat_minor": 2
}
